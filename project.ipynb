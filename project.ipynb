{
 "cells": [
  {
   "cell_type": "code",
   "execution_count": 1,
   "id": "4de76c34",
   "metadata": {
    "scrolled": true
   },
   "outputs": [
    {
     "name": "stderr",
     "output_type": "stream",
     "text": [
      "C:\\Users\\noema\\anaconda3\\lib\\site-packages\\scipy\\__init__.py:155: UserWarning: A NumPy version >=1.18.5 and <1.25.0 is required for this version of SciPy (detected version 1.26.2\n",
      "  warnings.warn(f\"A NumPy version >={np_minversion} and <{np_maxversion}\"\n"
     ]
    }
   ],
   "source": [
    "# base will be importing the following modules:\n",
    "# import subprocess\n",
    "# import pandas as pd\n",
    "# from sklearn.model_selection import KFold\n",
    "# import torch\n",
    "# import torch.nn as nn\n",
    "# import torch.optim as optim\n",
    "# from torch.utils.data import DataLoader, TensorDataset\n",
    "# import matplotlib.pyplot as plt\n",
    "\n",
    "from src.base import *"
   ]
  },
  {
   "cell_type": "markdown",
   "id": "0d1d8638",
   "metadata": {},
   "source": [
    "### Grab x and y values from src/survey lung cancer.csv"
   ]
  },
  {
   "cell_type": "code",
   "execution_count": 2,
   "id": "50ddc786",
   "metadata": {},
   "outputs": [],
   "source": [
    "x, y = get_data('src/survey lung cancer.csv')"
   ]
  },
  {
   "cell_type": "code",
   "execution_count": 3,
   "id": "1dd50e1c",
   "metadata": {},
   "outputs": [
    {
     "name": "stdout",
     "output_type": "stream",
     "text": [
      "     GENDER  AGE  SMOKING  YELLOW_FINGERS  ANXIETY  PEER_PRESSURE  \\\n",
      "0         0   69        1               2        2              1   \n",
      "1         0   74        2               1        1              1   \n",
      "2         1   59        1               1        1              2   \n",
      "3         0   63        2               2        2              1   \n",
      "4         1   63        1               2        1              1   \n",
      "..      ...  ...      ...             ...      ...            ...   \n",
      "304       1   56        1               1        1              2   \n",
      "305       0   70        2               1        1              1   \n",
      "306       0   58        2               1        1              1   \n",
      "307       0   67        2               1        2              1   \n",
      "308       0   62        1               1        1              2   \n",
      "\n",
      "     CHRONIC DISEASE  FATIGUE   ALLERGY   WHEEZING  ALCOHOL CONSUMING  \\\n",
      "0                  1         2         1         2                  2   \n",
      "1                  2         2         2         1                  1   \n",
      "2                  1         2         1         2                  1   \n",
      "3                  1         1         1         1                  2   \n",
      "4                  1         1         1         2                  1   \n",
      "..               ...       ...       ...       ...                ...   \n",
      "304                2         2         1         1                  2   \n",
      "305                1         2         2         2                  2   \n",
      "306                1         1         2         2                  2   \n",
      "307                1         2         2         1                  2   \n",
      "308                1         2         2         2                  2   \n",
      "\n",
      "     COUGHING  SHORTNESS OF BREATH  SWALLOWING DIFFICULTY  CHEST PAIN  \n",
      "0           2                    2                      2           2  \n",
      "1           1                    2                      2           2  \n",
      "2           2                    2                      1           2  \n",
      "3           1                    1                      2           2  \n",
      "4           2                    2                      1           1  \n",
      "..        ...                  ...                    ...         ...  \n",
      "304         2                    2                      2           1  \n",
      "305         2                    2                      1           2  \n",
      "306         2                    1                      1           2  \n",
      "307         2                    2                      1           2  \n",
      "308         1                    1                      2           1  \n",
      "\n",
      "[309 rows x 15 columns]\n"
     ]
    }
   ],
   "source": [
    "print(x)"
   ]
  },
  {
   "cell_type": "markdown",
   "id": "d88502d7",
   "metadata": {},
   "source": [
    "### Select one fold to use as a demonstration"
   ]
  },
  {
   "cell_type": "code",
   "execution_count": 4,
   "id": "57d65b58",
   "metadata": {},
   "outputs": [],
   "source": [
    "curr_fold  = get_folds(x)[0]\n",
    "train, test = curr_fold"
   ]
  },
  {
   "cell_type": "markdown",
   "id": "9775fd5e",
   "metadata": {},
   "source": [
    "### Make training and test data sets and data loaders from the fold indices"
   ]
  },
  {
   "cell_type": "code",
   "execution_count": 5,
   "id": "ded6a598",
   "metadata": {},
   "outputs": [],
   "source": [
    "X_train = torch.Tensor(x.iloc[train, :].values)\n",
    "y_train = torch.Tensor(y.iloc[train].values)\n",
    "y_train = y_train.view(y_train.shape[0], 1)\n",
    "X_test = torch.Tensor(x.iloc[test, :].values)\n",
    "y_test = torch.Tensor(y.iloc[test].values)\n",
    "y_test = y_test.view(y_test.shape[0], 1)"
   ]
  },
  {
   "cell_type": "code",
   "execution_count": 6,
   "id": "80094c5c",
   "metadata": {},
   "outputs": [],
   "source": [
    "train_dataset = TensorDataset(X_train, y_train)\n",
    "val_dataset = TensorDataset(X_test, y_test)"
   ]
  },
  {
   "cell_type": "code",
   "execution_count": 7,
   "id": "f5fee9b8",
   "metadata": {},
   "outputs": [],
   "source": [
    "batch_size = 32\n",
    "train_loader = DataLoader(train_dataset, batch_size=batch_size, shuffle=True)\n",
    "val_loader = DataLoader(val_dataset, batch_size=batch_size)"
   ]
  },
  {
   "cell_type": "markdown",
   "id": "48e4647e",
   "metadata": {},
   "source": [
    "### Create your model and select your criterion and optimizer"
   ]
  },
  {
   "cell_type": "code",
   "execution_count": 8,
   "id": "cdae288d",
   "metadata": {},
   "outputs": [],
   "source": [
    "model = classifier(input_size=x.shape[1], hidden_size=20, num_classes=1)\n",
    "criterion = nn.BCEWithLogitsLoss()\n",
    "optimizer = optim.SGD(model.parameters(), lr=0.01)"
   ]
  },
  {
   "cell_type": "markdown",
   "id": "1ffe495b",
   "metadata": {},
   "source": [
    "### Pass them into your agent"
   ]
  },
  {
   "cell_type": "code",
   "execution_count": 9,
   "id": "df49d5f1",
   "metadata": {},
   "outputs": [],
   "source": [
    "pred_model = predictor_model(model, criterion, optimizer)"
   ]
  },
  {
   "cell_type": "markdown",
   "id": "0e1ddd73",
   "metadata": {},
   "source": [
    "### Train your agent "
   ]
  },
  {
   "cell_type": "code",
   "execution_count": 10,
   "id": "73dd6da2",
   "metadata": {},
   "outputs": [
    {
     "name": "stdout",
     "output_type": "stream",
     "text": [
      "Epoch [1/50], Loss: 0.4327\n",
      "Epoch [2/50], Loss: 0.4296\n",
      "Epoch [3/50], Loss: 0.4311\n",
      "Epoch [4/50], Loss: 0.4281\n",
      "Epoch [5/50], Loss: 0.4357\n",
      "Epoch [6/50], Loss: 0.4296\n",
      "Epoch [7/50], Loss: 0.4296\n",
      "Epoch [8/50], Loss: 0.4281\n",
      "Epoch [9/50], Loss: 0.4311\n",
      "Epoch [10/50], Loss: 0.4327\n",
      "Epoch [11/50], Loss: 0.4281\n",
      "Epoch [12/50], Loss: 0.4281\n",
      "Epoch [13/50], Loss: 0.4327\n",
      "Epoch [14/50], Loss: 0.4311\n",
      "Epoch [15/50], Loss: 0.4296\n",
      "Epoch [16/50], Loss: 0.4372\n",
      "Epoch [17/50], Loss: 0.4311\n",
      "Epoch [18/50], Loss: 0.4311\n",
      "Epoch [19/50], Loss: 0.4281\n",
      "Epoch [20/50], Loss: 0.4311\n",
      "Epoch [21/50], Loss: 0.4311\n",
      "Epoch [22/50], Loss: 0.4311\n",
      "Epoch [23/50], Loss: 0.4311\n",
      "Epoch [24/50], Loss: 0.4296\n",
      "Epoch [25/50], Loss: 0.4296\n",
      "Epoch [26/50], Loss: 0.4281\n",
      "Epoch [27/50], Loss: 0.4342\n",
      "Epoch [28/50], Loss: 0.4296\n",
      "Epoch [29/50], Loss: 0.4281\n",
      "Epoch [30/50], Loss: 0.4327\n",
      "Epoch [31/50], Loss: 0.4296\n",
      "Epoch [32/50], Loss: 0.4296\n",
      "Epoch [33/50], Loss: 0.4327\n",
      "Epoch [34/50], Loss: 0.4311\n",
      "Epoch [35/50], Loss: 0.4327\n",
      "Epoch [36/50], Loss: 0.4342\n",
      "Epoch [37/50], Loss: 0.4281\n",
      "Epoch [38/50], Loss: 0.4311\n",
      "Epoch [39/50], Loss: 0.4281\n",
      "Epoch [40/50], Loss: 0.4342\n",
      "Epoch [41/50], Loss: 0.4311\n",
      "Epoch [42/50], Loss: 0.4311\n",
      "Epoch [43/50], Loss: 0.4281\n",
      "Epoch [44/50], Loss: 0.4311\n",
      "Epoch [45/50], Loss: 0.4296\n",
      "Epoch [46/50], Loss: 0.4311\n",
      "Epoch [47/50], Loss: 0.4296\n",
      "Epoch [48/50], Loss: 0.4327\n",
      "Epoch [49/50], Loss: 0.4281\n",
      "Epoch [50/50], Loss: 0.4296\n"
     ]
    }
   ],
   "source": [
    "train_loss = pred_model.train(train_loader, 50)"
   ]
  },
  {
   "cell_type": "code",
   "execution_count": 11,
   "id": "208720f5",
   "metadata": {},
   "outputs": [
    {
     "data": {
      "image/png": "[encoded data removed]",
      "text/plain": [
       "<Figure size 640x480 with 1 Axes>"
      ]
     },
     "metadata": {},
     "output_type": "display_data"
    }
   ],
   "source": [
    "plt.plot(train_loss)\n",
    "plt.show()"
   ]
  },
  {
   "cell_type": "markdown",
   "id": "b67156f1",
   "metadata": {},
   "source": [
    "### Evaluate your agent"
   ]
  },
  {
   "cell_type": "code",
   "execution_count": 12,
   "id": "73ed5114",
   "metadata": {},
   "outputs": [
    {
     "name": "stdout",
     "output_type": "stream",
     "text": [
      "Validation Accuracy: 83.87%\n"
     ]
    },
    {
     "data": {
      "text/plain": [
       "0.8387096774193549"
      ]
     },
     "execution_count": 12,
     "metadata": {},
     "output_type": "execute_result"
    }
   ],
   "source": [
    "pred_model.evaluate(val_loader)"
   ]
  },
  {
   "cell_type": "code",
   "execution_count": null,
   "id": "7833f1ff",
   "metadata": {},
   "outputs": [],
   "source": []
  }
 ],
 "metadata": {
  "kernelspec": {
   "display_name": "Python 3 (ipykernel)",
   "language": "python",
   "name": "python3"
  },
  "language_info": {
   "codemirror_mode": {
    "name": "ipython",
    "version": 3
   },
   "file_extension": ".py",
   "mimetype": "text/x-python",
   "name": "python",
   "nbconvert_exporter": "python",
   "pygments_lexer": "ipython3",
   "version": "3.9.13"
  }
 },
 "nbformat": 4,
 "nbformat_minor": 5
}
